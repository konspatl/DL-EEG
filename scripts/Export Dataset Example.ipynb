{
 "cells": [
  {
   "cell_type": "markdown",
   "metadata": {},
   "source": [
    "# EEG Dataset Pre-Processing for State-based Paradigm Analysis\n",
    "\n",
    "Author: Konstantinos Patlatzoglou\n",
    "\n",
    "A simple python pipeline for:\n",
    "\n",
    "1) pre-processing EEG data using the MNE library\n",
    "\n",
    "2) extracting a dataset suitable for training/testing machine learning models\n",
    "\n",
    "\n",
    "## Packages required:\n",
    "* numpy \n",
    "* scipy \n",
    "* natsort \n",
    "* matplotlib \n",
    "* pandas\n",
    "* scikit-learn\n",
    "* mne == 0.19"
   ]
  },
  {
   "cell_type": "code",
   "execution_count": null,
   "metadata": {},
   "outputs": [],
   "source": [
    "!pip install numpy\n",
    "!pip install scipy\n",
    "!pip install natsort\n",
    "!pip install matplotlib\n",
    "!pip install pandas\n",
    "!pip install scikit-learn\n",
    "!pip install mne==0.19"
   ]
  },
  {
   "cell_type": "code",
   "execution_count": null,
   "metadata": {},
   "outputs": [],
   "source": [
    "import sys\n",
    "import numpy as np\n",
    "import json\n",
    "from pathlib import Path\n",
    "\n",
    "sys.path.append(str(Path.cwd().parent / 'DL-EEG')) # Add datasetUtils package\n",
    "\n",
    "from datasetUtils import EEG\n",
    "from datasetUtils import utils"
   ]
  },
  {
   "cell_type": "markdown",
   "metadata": {},
   "source": [
    "## Dataset Description\n",
    "This pipeline has been developed to work with EEG datasets incorporating state-based experimental paradigms. In this example, we will use an open anesthesia dataset, which includes resting-state recordings during two anesthetic states: *Wakefulness* and *Sedation* (The full dataset can be downloaded [here](https://www.repository.cam.ac.uk/handle/1810/252736))\n",
    "\n",
    "Firstly, we need to create and load a '*dataset_info.json*' file that describes the main properties of the dataset:\n",
    "\n",
    "**Dataset Info**:\n",
    "* *Subjects* (list of subject names)\n",
    "* *States* (list of state names per subject)\n",
    "* *EEG Files* (list of EEG files per subject and state)\n",
    "* *Export* (dict of export information) - (Optional)\n",
    "* *Montage File* (str of montage pathfile) - (Optional)"
   ]
  },
  {
   "cell_type": "code",
   "execution_count": null,
   "metadata": {},
   "outputs": [],
   "source": [
    "dataset_path = Path.cwd().parent / 'data' / 'Anesthesia Dataset'\n",
    "\n",
    "dataset_info = json.load(open(str(dataset_path / 'dataset_info.json')))\n",
    "\n",
    "utils.check_dataset_consistency(dataset_info)"
   ]
  },
  {
   "cell_type": "markdown",
   "metadata": {},
   "source": [
    "In this example, *dataset_info.json* has the following structure:"
   ]
  },
  {
   "cell_type": "code",
   "execution_count": null,
   "metadata": {},
   "outputs": [],
   "source": [
    "dataset_info"
   ]
  },
  {
   "cell_type": "markdown",
   "metadata": {},
   "source": [
    "*'Export'* here includes the drug levels (ng/ml) of propofol per subject and state, which can be used as potential training/testing targets."
   ]
  },
  {
   "cell_type": "code",
   "execution_count": null,
   "metadata": {},
   "outputs": [],
   "source": [
    "subjects = dataset_info['Subjects']\n",
    "EEG_files = dataset_info['EEG Files']\n",
    "states = dataset_info['States']\n",
    "export = dataset_info['Export']\n",
    "montage_file = Path(dataset_info['Montage File'])"
   ]
  },
  {
   "cell_type": "markdown",
   "metadata": {},
   "source": [
    "## Dataset Export Parameters\n",
    "\n",
    "We can select the parameters we want to extract from our dataset (e.g. *subjects*, *states*, *export information* (Optional), and *Other* (Optional)  ), as well as the parameters of the EEG pre-processing pipeline (e.g. *channel selection*, *filtering*, *epoching window*, etc.). \n",
    "\n",
    "* *EEG_DATASET*:\n",
    " * *Study* - study name\n",
    " * *Subjects* - list of subjects\n",
    " * *States* - list of states\n",
    " * *Export* - list of export keys\n",
    " * *Other* - dict (Optional)\n",
    "* *EEG_PARAMETERS*:\n",
    " * *Channels* - name of channel selection\n",
    " * *Sfreq* - sampling frequency (Hz)\n",
    " * *Epoch Size* - epoch window size (sec)\n",
    " * *Reference* - reference montage name\n",
    " * *Topomap* - topomap representation (boolean) (Optional)\n",
    " * *...* (Optional)\n",
    "\n",
    "An export directory is set to store these parameters (*EEG_DATASET_PARAMETERS.json*), the preprocessed EEG data, and other subject information.\n"
   ]
  },
  {
   "cell_type": "code",
   "execution_count": null,
   "metadata": {},
   "outputs": [],
   "source": [
    "EXPORT_NAME = 'Anesthesia Dataset Export' # Name of Export Directory\n",
    "\n",
    "\n",
    "EEG_DATASET = {'Study': 'Cambridge Anesthesia',\n",
    "               'Subjects': ['S1', 'S2', 'S3'],\n",
    "               'States': ['Wakefulness', 'Sedation'],\n",
    "               'Export': ['Drug Levels'],  # list (export keys) (Optional)\n",
    "               'Other':  # Dict (Optional)\n",
    "                   {'Drug': 'Propofol'}\n",
    "               }\n",
    "\n",
    "EEG_PARAMETERS = {'Montage': 'GSN-HydroCel-129',  # 'GSN-HydroCel-129' (mne argument)\n",
    "                  'Channels': '10-20',  # 'All', '10-20'\n",
    "                  'Crop Time': None,  # [tmin, tmax] (sec)\n",
    "                  'Filtering': [0.5, 40],  # [Low-cut freq, High-cut freq]\n",
    "                  'Notch Freq': None,  # 50/60 Hz (Notch filter frequency, including harmonics)\n",
    "                  'Sfreq': 100,  # Hz\n",
    "                  'Epoch Size': 1,  # (sec)\n",
    "                  'Epoch Overlap': 0,  # % overlap (0%-99%)\n",
    "                  'Epoch Baseline Correction': False,\n",
    "                  'Epoch Peak-to-Peak Threshold': 800e-6,  # peak-to-peak amplitude threshold (V) or None\n",
    "                  'Interpolate Bad Channels': True, # Bad if signal is flat, or If 20% of the signal exceeds p-t-p threshold\n",
    "                  'Epoch Rejection': True,  # Reject epoch if p-t-p threshold exceeds in more than 20% of the channels\n",
    "                  'Reference': 'Average',  # 'Default' (Cz), 'Average', 'Cz', 'Frontal' (Fp1-F3-Fz-F4-Fp2)\n",
    "                  }"
   ]
  },
  {
   "cell_type": "code",
   "execution_count": null,
   "metadata": {},
   "outputs": [],
   "source": [
    "# Create 'Export Data' Directory\n",
    "export_path = dataset_path.parent / EXPORT_NAME\n",
    "utils.create_directory(export_path)\n",
    "\n",
    "# Create JSON file with EEG Dataset EXPORT PARAMETERS\n",
    "EEG_DATASET_PARAMETERS = {'EEG_DATASET': EEG_DATASET, 'EEG_PARAMETERS': EEG_PARAMETERS}\n",
    "json.dump(EEG_DATASET_PARAMETERS, open(str(export_path / 'EEG_DATASET_PARAMETERS.json'), 'w'), indent=4)"
   ]
  },
  {
   "cell_type": "markdown",
   "metadata": {},
   "source": [
    "## Dataset Pre-Processing Pipeline\n",
    "\n",
    "The dataset pre-processing pipeline is given below. For each selected subject and state, we acquire a raw and epochs MNE object, based on which we extract the epoched EEG data and other subject information (*'States'*, *'Channels'*, *'Export'*).\n",
    "\n",
    "Finally, we export the epoched data (*subject_eeg_data.npy*) and subject info (*subject_info.json*) in the selected directory."
   ]
  },
  {
   "cell_type": "code",
   "execution_count": null,
   "metadata": {},
   "outputs": [],
   "source": [
    "# For each Selected Subject\n",
    "for i, subject in enumerate(subjects):\n",
    "    if subject not in EEG_DATASET['Subjects']: # Filter Subject Selection\n",
    "        continue\n",
    "\n",
    "    # Subject Data and Info\n",
    "    eeg_data = np.empty((len(EEG_DATASET['States']),), dtype=object)\n",
    "    selected_states = []\n",
    "    channels = []\n",
    "    selected_export = None\n",
    "    if 'Export' in EEG_DATASET: # Check for Export\n",
    "        selected_export = {key: [] for key in EEG_DATASET['Export']}\n",
    "\n",
    "\n",
    "    # For each Selected State\n",
    "    for s, state in enumerate(states[i]):\n",
    "        if state not in EEG_DATASET['States']: # Filter State Selection\n",
    "            continue\n",
    "\n",
    "        # Get EEG File and Montage File (Optional)\n",
    "        EEG_file_path = dataset_path / EEG_files[i][s]\n",
    "\n",
    "        if montage_file is not None:\n",
    "            montage_file = dataset_path / montage_file\n",
    "\n",
    "        # MNE RAW Object\n",
    "        original_raw, montage = EEG.load_EEG_data(EEG_file_path, EEG_PARAMETERS['Montage'],\n",
    "                                                  montage_file=montage_file)\n",
    "\n",
    "        # MNE Preprocessed RAW and EPOCHS\n",
    "        preprocessed_raw, epochs = EEG.process_EEG_data(original_raw.copy(), EEG_PARAMETERS)\n",
    "\n",
    "        # Numpy Array\n",
    "        epoched_data = epochs.get_data()\n",
    "\n",
    "        eeg_data[s] = epoched_data\n",
    "        selected_states.append(state)\n",
    "        channels = epochs.ch_names\n",
    "        if 'Export' in dataset_info and 'Export' in EEG_DATASET: # Check for Export\n",
    "            for key in export.keys():\n",
    "                if key in EEG_DATASET['Export']:\n",
    "                    selected_export[key].append(export[key][i][s])\n",
    "\n",
    "    # Subject Info\n",
    "    subject_info = {'States': selected_states,\n",
    "                    'Channels': channels,\n",
    "                    'Export': selected_export\n",
    "                    }\n",
    "\n",
    "    # Export EEG Data as numpy array\n",
    "    np.save(str(export_path / (subject + '_eeg_data.npy')), eeg_data, allow_pickle=True)\n",
    "    # Export Subject Info as a json file\n",
    "    json.dump(subject_info, open(str(export_path / (subject + '_info.json')), 'w'), indent=4)"
   ]
  },
  {
   "cell_type": "code",
   "execution_count": null,
   "metadata": {},
   "outputs": [],
   "source": []
  }
 ],
 "metadata": {
  "kernelspec": {
   "display_name": "Python 3 (ipykernel)",
   "language": "python",
   "name": "python3"
  },
  "language_info": {
   "codemirror_mode": {
    "name": "ipython",
    "version": 3
   },
   "file_extension": ".py",
   "mimetype": "text/x-python",
   "name": "python",
   "nbconvert_exporter": "python",
   "pygments_lexer": "ipython3",
   "version": "3.8.13"
  }
 },
 "nbformat": 4,
 "nbformat_minor": 4
}
